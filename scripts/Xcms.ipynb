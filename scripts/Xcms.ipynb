{
 "cells": [
  {
   "cell_type": "code",
   "execution_count": null,
   "id": "initial_id",
   "metadata": {
    "collapsed": true,
    "is_executing": true
   },
   "outputs": [],
   "source": [
    "from scripts.utils.chain_model import Chain\n",
    "from utils.work_with_data import get_data_from_file\n",
    "\n",
    "chains_file = get_data_from_file(\"../chains/v20/chains_dev.json\")\n",
    "chains = [Chain(it) for it in chains_file]\n",
    "\n",
    "rococo_id = \"6408de7737c59c238890533af25896a2c20608d8b380bb01029acb392781063e\"\n",
    "rococo = next((chain for chain in chains if chain.chainId == rococo_id))\n",
    "rococo_parachains = [chain for chain in chains if chain.parentId == rococo_id]"
   ]
  },
  {
   "cell_type": "code",
   "execution_count": null,
   "outputs": [],
   "source": [
    "rococo.create_connection()\n",
    "\n",
    "for p in rococo_parachains:\n",
    "    p.create_connection()"
   ],
   "metadata": {
    "collapsed": false
   },
   "id": "3e1929acb6e72612"
  },
  {
   "cell_type": "code",
   "execution_count": null,
   "outputs": [],
   "source": [
    "hrmp_channels = rococo.substrate.runtime_call(\"Hrmp\", \"HrmpChannels\")"
   ],
   "metadata": {
    "collapsed": false
   },
   "id": "6b8ea408aa6c674f"
  },
  {
   "cell_type": "code",
   "execution_count": null,
   "outputs": [],
   "source": [],
   "metadata": {
    "collapsed": false
   },
   "id": "1c8b9025cf0aff40"
  }
 ],
 "metadata": {
  "kernelspec": {
   "name": "pycharm-b15f2cff",
   "language": "python",
   "display_name": "PyCharm (IR)"
  },
  "language_info": {
   "codemirror_mode": {
    "name": "ipython",
    "version": 2
   },
   "file_extension": ".py",
   "mimetype": "text/x-python",
   "name": "python",
   "nbconvert_exporter": "python",
   "pygments_lexer": "ipython2",
   "version": "2.7.6"
  }
 },
 "nbformat": 4,
 "nbformat_minor": 5
}
